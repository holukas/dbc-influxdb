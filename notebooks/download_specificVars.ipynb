{
 "cells": [
  {
   "cell_type": "markdown",
   "id": "d40d22f3968b2f8c",
   "metadata": {},
   "source": [
    "<span style='font-size:24px; display:block;'>\n",
    "Download data from database (influxdb)\n",
    "</span>\n",
    "\n",
    "<span style='font-size:40px; display:block;'>    \n",
    "<b>Download data for specific variables</b></br>    \n",
    "</span>"
   ]
  },
  {
   "cell_type": "markdown",
   "id": "1e17eecb-3250-404e-a476-9b905e729a81",
   "metadata": {},
   "source": [
    "---\n",
    "**Author**: Lukas Hörtnagl  \n",
    "**Last update**: 19 Mar 2025"
   ]
  },
  {
   "cell_type": "markdown",
   "id": "6d461ec9a88bdb51",
   "metadata": {},
   "source": [
    "# **Imports**"
   ]
  },
  {
   "cell_type": "code",
   "execution_count": 1,
   "id": "f7928bb1a4a9bc08",
   "metadata": {
    "ExecuteTime": {
     "end_time": "2024-08-28T00:20:09.294212Z",
     "start_time": "2024-08-28T00:20:09.279212Z"
    }
   },
   "outputs": [],
   "source": [
    "import warnings\n",
    "from datetime import datetime\n",
    "import dbc_influxdb as dbc\n",
    "warnings.simplefilter(\"ignore\")"
   ]
  },
  {
   "cell_type": "markdown",
   "id": "bbc462ad4836d9a7",
   "metadata": {},
   "source": [
    "</br>"
   ]
  },
  {
   "cell_type": "markdown",
   "id": "8ef208f947470920",
   "metadata": {},
   "source": [
    "# **Connect to database**"
   ]
  },
  {
   "cell_type": "code",
   "execution_count": 2,
   "id": "51dfb389a5c1e9a",
   "metadata": {
    "ExecuteTime": {
     "end_time": "2024-08-28T00:20:11.491769Z",
     "start_time": "2024-08-28T00:20:09.343212Z"
    }
   },
   "outputs": [
    {
     "name": "stdout",
     "output_type": "stream",
     "text": [
      "Reading configuration files was successful.\n",
      "Connection to database works.\n"
     ]
    }
   ],
   "source": [
    "# Folder with database configurations\n",
    "DIRCONF = r'L:\\Sync\\luhk_work\\20 - CODING\\22 - POET\\configs'  \n",
    "# Instantiate class\n",
    "dbc = dbc.dbcInflux(dirconf=DIRCONF)"
   ]
  },
  {
   "cell_type": "markdown",
   "id": "2925cce54011801",
   "metadata": {},
   "source": [
    "</br>"
   ]
  },
  {
   "cell_type": "markdown",
   "id": "1ad01cfb-2c15-441f-b1ac-48aa4853a1ae",
   "metadata": {},
   "source": [
    "# **Download from database**"
   ]
  },
  {
   "cell_type": "code",
   "execution_count": 3,
   "id": "2a810c29-8a46-4c87-b3cc-5cb4072aa9f8",
   "metadata": {},
   "outputs": [
    {
     "name": "stdout",
     "output_type": "stream",
     "text": [
      "\n",
      "DOWNLOADING\n",
      "    from bucket ch-cha_processed\n",
      "    variables ['RH_T1_2_1', 'TA_T1_2_1', 'SW_IN_T1_2_1']\n",
      "    from measurements ['RH', 'TA', 'SW']\n",
      "    from data version ['meteoscreening_diive']\n",
      "    between 2022-04-01 00:00:01 and 2022-04-03 00:00:01\n",
      "    with timezone offset to UTC of 1\n",
      "Using querystring:\n",
      "from(bucket: \"ch-cha_processed\") |> range(start: 2022-04-01T00:00:01+01:00, stop: 2022-04-03T00:00:01+01:00) |> filter(fn: (r) => r[\"_measurement\"] == \"RH\" or r[\"_measurement\"] == \"TA\" or r[\"_measurement\"] == \"SW\") |> filter(fn: (r) => r[\"data_version\"] == \"meteoscreening_diive\") |> filter(fn: (r) => r[\"_field\"] == \"RH_T1_2_1\" or r[\"_field\"] == \"TA_T1_2_1\" or r[\"_field\"] == \"SW_IN_T1_2_1\") |> pivot(rowKey:[\"_time\"], columnKey: [\"_field\"], valueColumn: \"_value\")\n",
      "Used querystring: from(bucket: \"ch-cha_processed\") |> range(start: 2022-04-01T00:00:01+01:00, stop: 2022-04-03T00:00:01+01:00) |> filter(fn: (r) => r[\"_measurement\"] == \"RH\" or r[\"_measurement\"] == \"TA\" or r[\"_measurement\"] == \"SW\") |> filter(fn: (r) => r[\"data_version\"] == \"meteoscreening_diive\") |> filter(fn: (r) => r[\"_field\"] == \"RH_T1_2_1\" or r[\"_field\"] == \"TA_T1_2_1\" or r[\"_field\"] == \"SW_IN_T1_2_1\") |> pivot(rowKey:[\"_time\"], columnKey: [\"_field\"], valueColumn: \"_value\")\n",
      "querystring was constructed from:\n",
      "    bucketstring: from(bucket: \"ch-cha_processed\")\n",
      "    rangestring: |> range(start: 2022-04-01T00:00:01+01:00, stop: 2022-04-03T00:00:01+01:00)\n",
      "    measurementstring: |> filter(fn: (r) => r[\"_measurement\"] == \"RH\" or r[\"_measurement\"] == \"TA\" or r[\"_measurement\"] == \"SW\")\n",
      "    dataversionstring: |> filter(fn: (r) => r[\"data_version\"] == \"meteoscreening_diive\")\n",
      "    fieldstring: |> filter(fn: (r) => r[\"_field\"] == \"RH_T1_2_1\" or r[\"_field\"] == \"TA_T1_2_1\" or r[\"_field\"] == \"SW_IN_T1_2_1\")\n",
      "    pivotstring: |> pivot(rowKey:[\"_time\"], columnKey: [\"_field\"], valueColumn: \"_value\")\n",
      "Download finished.\n",
      "Downloaded data for 3 variables:\n",
      "<-- RH_T1_2_1  (96 records)  first date: 2022-04-01 00:30:00  last date: 2022-04-03 00:00:00\n",
      "<-- SW_IN_T1_2_1  (96 records)  first date: 2022-04-01 00:30:00  last date: 2022-04-03 00:00:00\n",
      "<-- TA_T1_2_1  (96 records)  first date: 2022-04-01 00:30:00  last date: 2022-04-03 00:00:00\n",
      "========================================\n",
      "Fields in measurement RH of bucket ch-cha_processed:\n",
      "#1  ch-cha_processed  RH  RH\n",
      "#2  ch-cha_processed  RH  RH_1_1_1\n",
      "#3  ch-cha_processed  RH  RH_EP\n",
      "#4  ch-cha_processed  RH  RH_SCALED_T1_2_1\n",
      "#5  ch-cha_processed  RH  RH_SOURCE\n",
      "#6  ch-cha_processed  RH  RH_T1_2_1\n",
      "Found 6 fields in measurement RH of bucket ch-cha_processed.\n",
      "========================================\n",
      "========================================\n",
      "Fields in measurement TA of bucket ch-cha_processed:\n",
      "#1  ch-cha_processed  TA  TA\n",
      "#2  ch-cha_processed  TA  TA_1_1_1\n",
      "#3  ch-cha_processed  TA  TA_EP\n",
      "#4  ch-cha_processed  TA  TA_ERA\n",
      "#5  ch-cha_processed  TA  TA_F\n",
      "#6  ch-cha_processed  TA  TA_F_MDS\n",
      "#7  ch-cha_processed  TA  TA_F_MDS_QC\n",
      "#8  ch-cha_processed  TA  TA_F_QC\n",
      "#9  ch-cha_processed  TA  TA_SOURCE\n",
      "#10  ch-cha_processed  TA  TA_T1_2_1\n",
      "#11  ch-cha_processed  TA  T_SONIC\n",
      "Found 11 fields in measurement TA of bucket ch-cha_processed.\n",
      "========================================\n",
      "========================================\n",
      "Fields in measurement SW of bucket ch-cha_processed:\n",
      "#1  ch-cha_processed  SW  NIGHT\n",
      "#2  ch-cha_processed  SW  SW_IN\n",
      "#3  ch-cha_processed  SW  SW_IN_1_1_1\n",
      "#4  ch-cha_processed  SW  SW_IN_AZI_4\n",
      "#5  ch-cha_processed  SW  SW_IN_CORRECTED_SETTO_0_T1_2_1\n",
      "#6  ch-cha_processed  SW  SW_IN_CORRECTED_T1_2_1\n",
      "#7  ch-cha_processed  SW  SW_IN_ELE_4\n",
      "#8  ch-cha_processed  SW  SW_IN_ERA\n",
      "#9  ch-cha_processed  SW  SW_IN_F\n",
      "#10  ch-cha_processed  SW  SW_IN_F_MDS\n",
      "#11  ch-cha_processed  SW  SW_IN_F_MDS_QC\n",
      "#12  ch-cha_processed  SW  SW_IN_F_QC\n",
      "#13  ch-cha_processed  SW  SW_IN_POT\n",
      "#14  ch-cha_processed  SW  SW_IN_SOURCE\n",
      "#15  ch-cha_processed  SW  SW_IN_T1_2_1\n",
      "#16  ch-cha_processed  SW  SW_OUT\n",
      "#17  ch-cha_processed  SW  SW_OUT_CORRECTED_SETTO_0_T1_2_1\n",
      "#18  ch-cha_processed  SW  SW_OUT_CORRECTED_T1_2_1\n",
      "#19  ch-cha_processed  SW  SW_OUT_T1_2_1\n",
      "Found 19 fields in measurement SW of bucket ch-cha_processed.\n",
      "========================================\n"
     ]
    }
   ],
   "source": [
    "# Settings\n",
    "SITE = 'ch-cha'  # Site name\n",
    "BUCKET = f'{SITE}_processed'\n",
    "MEASUREMENTS = ['RH', 'TA', 'SW']  # Measurement name\n",
    "FIELDS = ['RH_T1_2_1', 'TA_T1_2_1', 'SW_IN_T1_2_1']  # Variable name; InfluxDB stores variable names as '_field'\n",
    "DATA_VERSION = ['meteoscreening_diive']\n",
    "\n",
    "START = '2022-04-01 00:00:01'  # Download data starting with this date\n",
    "STOP = '2022-04-03 00:00:01'  # Download data before this date (the stop date itself is not included)\n",
    "TIMEZONE_OFFSET_TO_UTC_HOURS = 1  # Timezone, e.g. \"1\" is translated to timezone \"UTC+01:00\" (CET, winter time)\n",
    "\n",
    "# Data download\n",
    "data_simple, data_detailed, assigned_measurements = \\\n",
    "    dbc.download(\n",
    "        bucket=BUCKET,\n",
    "        measurements=MEASUREMENTS,\n",
    "        fields=FIELDS,\n",
    "        start=START,\n",
    "        stop=STOP,\n",
    "        timezone_offset_to_utc_hours=TIMEZONE_OFFSET_TO_UTC_HOURS,\n",
    "        data_version=DATA_VERSION\n",
    ")"
   ]
  },
  {
   "cell_type": "markdown",
   "id": "d66000e4-0a09-40ea-a770-f4d3db4bf160",
   "metadata": {},
   "source": [
    "</br>"
   ]
  },
  {
   "cell_type": "markdown",
   "id": "2272eb13-3aaa-43c7-afe0-de3c5b0ad85b",
   "metadata": {},
   "source": [
    "# **Plot downloaded data**"
   ]
  },
  {
   "cell_type": "code",
   "execution_count": 4,
   "id": "4205ddeb-5345-4c97-ac9a-2201e9bedb36",
   "metadata": {},
   "outputs": [
    {
     "data": {
      "image/png": "[encoded data removed]",
      "text/plain": [
       "<Figure size 1600x600 with 3 Axes>"
      ]
     },
     "metadata": {},
     "output_type": "display_data"
    }
   ],
   "source": [
    "data_simple.plot(x_compat=True, figsize=(16, 6), title=\"Downloaded data\", subplots=True);"
   ]
  },
  {
   "cell_type": "markdown",
   "id": "d633f8b2-343f-4e16-8fcc-91c7acab67ea",
   "metadata": {},
   "source": [
    "</br>"
   ]
  },
  {
   "cell_type": "markdown",
   "id": "80be35f3-9c00-4283-b648-453d34a0288a",
   "metadata": {},
   "source": [
    "# **Save to file**"
   ]
  },
  {
   "cell_type": "code",
   "execution_count": 5,
   "id": "6db88892-ea80-4d28-ad23-a6d31fa0476d",
   "metadata": {},
   "outputs": [
    {
     "data": {
      "text/html": [
       "<div>\n",
       "<style scoped>\n",
       "    .dataframe tbody tr th:only-of-type {\n",
       "        vertical-align: middle;\n",
       "    }\n",
       "\n",
       "    .dataframe tbody tr th {\n",
       "        vertical-align: top;\n",
       "    }\n",
       "\n",
       "    .dataframe thead th {\n",
       "        text-align: right;\n",
       "    }\n",
       "</style>\n",
       "<table border=\"1\" class=\"dataframe\">\n",
       "  <thead>\n",
       "    <tr style=\"text-align: right;\">\n",
       "      <th></th>\n",
       "      <th>RH_T1_2_1</th>\n",
       "      <th>SW_IN_T1_2_1</th>\n",
       "      <th>TA_T1_2_1</th>\n",
       "    </tr>\n",
       "    <tr>\n",
       "      <th>TIMESTAMP_END</th>\n",
       "      <th></th>\n",
       "      <th></th>\n",
       "      <th></th>\n",
       "    </tr>\n",
       "  </thead>\n",
       "  <tbody>\n",
       "    <tr>\n",
       "      <th>2022-04-01 00:30:00</th>\n",
       "      <td>99.971178</td>\n",
       "      <td>0.0</td>\n",
       "      <td>5.272717</td>\n",
       "    </tr>\n",
       "    <tr>\n",
       "      <th>2022-04-01 01:00:00</th>\n",
       "      <td>99.998216</td>\n",
       "      <td>0.0</td>\n",
       "      <td>5.238737</td>\n",
       "    </tr>\n",
       "    <tr>\n",
       "      <th>2022-04-01 01:30:00</th>\n",
       "      <td>99.999094</td>\n",
       "      <td>0.0</td>\n",
       "      <td>5.038240</td>\n",
       "    </tr>\n",
       "    <tr>\n",
       "      <th>2022-04-01 02:00:00</th>\n",
       "      <td>99.991460</td>\n",
       "      <td>0.0</td>\n",
       "      <td>4.781626</td>\n",
       "    </tr>\n",
       "    <tr>\n",
       "      <th>2022-04-01 02:30:00</th>\n",
       "      <td>99.999621</td>\n",
       "      <td>0.0</td>\n",
       "      <td>4.675158</td>\n",
       "    </tr>\n",
       "    <tr>\n",
       "      <th>...</th>\n",
       "      <td>...</td>\n",
       "      <td>...</td>\n",
       "      <td>...</td>\n",
       "    </tr>\n",
       "    <tr>\n",
       "      <th>2022-04-02 22:00:00</th>\n",
       "      <td>99.950110</td>\n",
       "      <td>0.0</td>\n",
       "      <td>0.173560</td>\n",
       "    </tr>\n",
       "    <tr>\n",
       "      <th>2022-04-02 22:30:00</th>\n",
       "      <td>99.930467</td>\n",
       "      <td>0.0</td>\n",
       "      <td>0.110067</td>\n",
       "    </tr>\n",
       "    <tr>\n",
       "      <th>2022-04-02 23:00:00</th>\n",
       "      <td>99.928214</td>\n",
       "      <td>0.0</td>\n",
       "      <td>0.113800</td>\n",
       "    </tr>\n",
       "    <tr>\n",
       "      <th>2022-04-02 23:30:00</th>\n",
       "      <td>99.915044</td>\n",
       "      <td>0.0</td>\n",
       "      <td>0.026059</td>\n",
       "    </tr>\n",
       "    <tr>\n",
       "      <th>2022-04-03 00:00:00</th>\n",
       "      <td>99.925387</td>\n",
       "      <td>0.0</td>\n",
       "      <td>-0.036914</td>\n",
       "    </tr>\n",
       "  </tbody>\n",
       "</table>\n",
       "<p>96 rows × 3 columns</p>\n",
       "</div>"
      ],
      "text/plain": [
       "                     RH_T1_2_1  SW_IN_T1_2_1  TA_T1_2_1\n",
       "TIMESTAMP_END                                          \n",
       "2022-04-01 00:30:00  99.971178           0.0   5.272717\n",
       "2022-04-01 01:00:00  99.998216           0.0   5.238737\n",
       "2022-04-01 01:30:00  99.999094           0.0   5.038240\n",
       "2022-04-01 02:00:00  99.991460           0.0   4.781626\n",
       "2022-04-01 02:30:00  99.999621           0.0   4.675158\n",
       "...                        ...           ...        ...\n",
       "2022-04-02 22:00:00  99.950110           0.0   0.173560\n",
       "2022-04-02 22:30:00  99.930467           0.0   0.110067\n",
       "2022-04-02 23:00:00  99.928214           0.0   0.113800\n",
       "2022-04-02 23:30:00  99.915044           0.0   0.026059\n",
       "2022-04-03 00:00:00  99.925387           0.0  -0.036914\n",
       "\n",
       "[96 rows x 3 columns]"
      ]
     },
     "execution_count": 5,
     "metadata": {},
     "output_type": "execute_result"
    }
   ],
   "source": [
    "data_simple"
   ]
  },
  {
   "cell_type": "code",
   "execution_count": 6,
   "id": "910f9098-ab26-4b37-a06c-3d1a392a8f53",
   "metadata": {},
   "outputs": [],
   "source": [
    "data_simple.to_csv(r\"data.csv\")"
   ]
  },
  {
   "cell_type": "markdown",
   "id": "8792fddd2e6ad71d",
   "metadata": {},
   "source": [
    "</br>"
   ]
  },
  {
   "cell_type": "markdown",
   "id": "e2d3e3ccdf374809",
   "metadata": {},
   "source": [
    "# **End of notebook.**\n",
    "Congratulations, you reached the end of this notebook! Before you go let's store your finish time."
   ]
  },
  {
   "cell_type": "code",
   "execution_count": 7,
   "id": "d999de81e5509f7",
   "metadata": {
    "ExecuteTime": {
     "end_time": "2024-08-28T00:20:12.293751Z",
     "start_time": "2024-08-28T00:20:12.278751Z"
    },
    "tags": []
   },
   "outputs": [
    {
     "name": "stdout",
     "output_type": "stream",
     "text": [
      "Finished. 2025-03-19 08:37:18\n"
     ]
    }
   ],
   "source": [
    "dt_string = datetime.now().strftime(\"%Y-%m-%d %H:%M:%S\")\n",
    "print(f\"Finished. {dt_string}\")"
   ]
  },
  {
   "cell_type": "code",
   "execution_count": null,
   "id": "b4c906858692e0a5",
   "metadata": {
    "ExecuteTime": {
     "end_time": "2024-08-28T00:20:12.355750Z",
     "start_time": "2024-08-28T00:20:12.345750Z"
    }
   },
   "outputs": [],
   "source": []
  }
 ],
 "metadata": {
  "kernelspec": {
   "display_name": "Python 3 (ipykernel)",
   "language": "python",
   "name": "python3"
  },
  "language_info": {
   "codemirror_mode": {
    "name": "ipython",
    "version": 3
   },
   "file_extension": ".py",
   "mimetype": "text/x-python",
   "name": "python",
   "nbconvert_exporter": "python",
   "pygments_lexer": "ipython3",
   "version": "3.9.19"
  }
 },
 "nbformat": 4,
 "nbformat_minor": 5
}
