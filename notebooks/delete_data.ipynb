{
 "cells": [
  {
   "metadata": {},
   "cell_type": "markdown",
   "source": [
    "<span style='font-size:40px; display:block;'>\n",
    "<b>\n",
    "    Delete data of specific variables from database (influxdb)\n",
    "</b>\n",
    "</span>"
   ],
   "id": "d40d22f3968b2f8c"
  },
  {
   "metadata": {},
   "cell_type": "markdown",
   "source": "# **Imports**",
   "id": "6d461ec9a88bdb51"
  },
  {
   "metadata": {
    "ExecuteTime": {
     "end_time": "2024-08-28T00:38:48.409866Z",
     "start_time": "2024-08-28T00:38:48.395862Z"
    }
   },
   "cell_type": "code",
   "source": [
    "import warnings\n",
    "from datetime import datetime\n",
    "\n",
    "import dbc_influxdb as dbc\n",
    "\n",
    "warnings.simplefilter(\"ignore\")"
   ],
   "id": "f7928bb1a4a9bc08",
   "outputs": [],
   "execution_count": 7
  },
  {
   "metadata": {},
   "cell_type": "markdown",
   "source": "</br>",
   "id": "4c030071c45657"
  },
  {
   "metadata": {},
   "cell_type": "markdown",
   "source": "# **Settings**",
   "id": "d5d870a456cf6f8f"
  },
  {
   "metadata": {
    "ExecuteTime": {
     "end_time": "2024-08-28T00:38:48.441372Z",
     "start_time": "2024-08-28T00:38:48.437373Z"
    }
   },
   "cell_type": "code",
   "source": [
    "BUCKET = f'a'\n",
    "DATA_VERSION = 'raw'\n",
    "DIRCONF = r'L:\\Sync\\luhk_work\\20 - CODING\\22 - POET\\configs'  # Folder with configurations\n",
    "MEASUREMENTS = ['SWC', 'TA']  # Measurement name\n",
    "FIELDS = ['SWC_GF1_0.05_1', 'TA_T1_2_1']  # Variable name; InfluxDB stores variable names as '_field'\n",
    "START = '2021-05-15 00:00:01'  # Download data starting with this date\n",
    "STOP = '2021-05-25 00:00:01'  # Download data before this date (the stop date itself is not included)\n",
    "TIMEZONE_OFFSET_TO_UTC_HOURS = 1  # Timezone, e.g. \"1\" is translated to timezone \"UTC+01:00\" (CET, winter time)"
   ],
   "id": "ce2857e128a6da1f",
   "outputs": [],
   "execution_count": 8
  },
  {
   "metadata": {},
   "cell_type": "markdown",
   "source": "</br>",
   "id": "bbc462ad4836d9a7"
  },
  {
   "metadata": {},
   "cell_type": "markdown",
   "source": "# **Connect to database**",
   "id": "8ef208f947470920"
  },
  {
   "metadata": {
    "ExecuteTime": {
     "end_time": "2024-08-28T00:38:50.504193Z",
     "start_time": "2024-08-28T00:38:48.458372Z"
    }
   },
   "cell_type": "code",
   "source": [
    "# Instantiate class\n",
    "db = dbc.dbcInflux(dirconf=DIRCONF)"
   ],
   "id": "51dfb389a5c1e9a",
   "outputs": [
    {
     "name": "stdout",
     "output_type": "stream",
     "text": [
      "Reading configuration files was successful.\n",
      "Connection to database works.\n"
     ]
    }
   ],
   "execution_count": 9
  },
  {
   "metadata": {},
   "cell_type": "markdown",
   "source": "</br>",
   "id": "2925cce54011801"
  },
  {
   "metadata": {},
   "cell_type": "markdown",
   "source": "# **Docstring**",
   "id": "14f5dac20c9cbe9"
  },
  {
   "metadata": {
    "ExecuteTime": {
     "end_time": "2024-08-28T00:38:50.583702Z",
     "start_time": "2024-08-28T00:38:50.573702Z"
    }
   },
   "cell_type": "code",
   "source": "help(db.delete)",
   "id": "c11fcc9625708819",
   "outputs": [
    {
     "name": "stdout",
     "output_type": "stream",
     "text": [
      "Help on method delete in module dbc_influxdb.main:\n",
      "\n",
      "delete(bucket: str, measurements: list, start: str, stop: str, timezone_offset_to_utc_hours: int, data_version: str, fields: list) -> None method of dbc_influxdb.main.dbcInflux instance\n",
      "    Delete data from bucket\n",
      "    \n",
      "    Args:\n",
      "        bucket: name of bucket in database\n",
      "        measurements: list or True\n",
      "            If list, list of measurements in database, e.g. ['TA', 'SW']\n",
      "            If True, all *fields* in all *measurements* will be deleted\n",
      "        fields: list or True\n",
      "            If list, list of fields (variable names) to delete\n",
      "            If True, all data in *fields* in *measurements* will be deleted.\n",
      "        start: start datetime, e.g. '2022-07-04 00:30:00'\n",
      "        stop: stop datetime, e.g. '2022-07-05 12:00:00'\n",
      "        timezone_offset_to_utc_hours: the timezone of *start* and *stop* datetimes.\n",
      "            Necessary because the database always stores data with UTC timestamps.\n",
      "            For example, if data were originally recorded using CET (winter time),\n",
      "            which corresponds to UTC+01:00, and all data between 1 Jun 2024 00:30 CET and\n",
      "            2 Jun 2024 12:00 CET should be deleted, then *timezone_offset_to_utc_hours=1*.\n",
      "        data_version: version ID of the data that should be deleted,\n",
      "            e.g. 'meteoscreening', 'raw', 'myID', ...\n",
      "    \n",
      "    Examples:\n",
      "    \n",
      "        Delete all variables across all measurements:\n",
      "            measurements=True, fields=True\n",
      "    \n",
      "        Delete all variables of a specific measurement:\n",
      "            measurements=['TA'], fields=True\n",
      "    \n",
      "    \n",
      "        Delete specific variables in specific measurements:\n",
      "            measurements=['TA', 'SW'], fields=['TA_T1_1_1', 'SW_T1_1_1']\n",
      "    \n",
      "        Delete specific variables in across all measurements:\n",
      "            measurements=True, fields=['TA_T1_1_1', 'SW_T1_1_1']\n",
      "            This basically searches the variables across all measurements\n",
      "            and the deletes them.\n",
      "    \n",
      "    Returns:\n",
      "        -\n",
      "    \n",
      "    docs:\n",
      "    - https://influxdb-client.readthedocs.io/en/stable/usage.html#delete-data\n",
      "    - https://docs.influxdata.com/influxdb/v2/reference/syntax/delete-predicate/\n",
      "\n"
     ]
    }
   ],
   "execution_count": 10
  },
  {
   "metadata": {},
   "cell_type": "markdown",
   "source": "</br>",
   "id": "9b534ecc011dc364"
  },
  {
   "metadata": {},
   "cell_type": "markdown",
   "source": "# **Delete data**",
   "id": "8a063630fdd2144"
  },
  {
   "metadata": {
    "ExecuteTime": {
     "end_time": "2024-08-28T00:38:50.952377Z",
     "start_time": "2024-08-28T00:38:50.672637Z"
    }
   },
   "cell_type": "code",
   "source": [
    "# Data download\n",
    "db.delete(\n",
    "    bucket=BUCKET,\n",
    "    measurements=MEASUREMENTS,\n",
    "    fields=FIELDS,\n",
    "    start=START,\n",
    "    stop=STOP,\n",
    "    timezone_offset_to_utc_hours=TIMEZONE_OFFSET_TO_UTC_HOURS,\n",
    "    data_version=DATA_VERSION\n",
    ")"
   ],
   "id": "7e3e138e097b02c9",
   "outputs": [
    {
     "name": "stdout",
     "output_type": "stream",
     "text": [
      "Deleted variables ['SWC_GF1_0.05_1', 'TA_T1_2_1'] between 2021-05-15T00:00:01+01:00 and 2021-05-25T00:00:01+01:00 from measurements ['SWC', 'TA'] in bucket a.\n"
     ]
    }
   ],
   "execution_count": 11
  },
  {
   "metadata": {},
   "cell_type": "markdown",
   "source": "</br>",
   "id": "8792fddd2e6ad71d"
  },
  {
   "metadata": {},
   "cell_type": "markdown",
   "source": [
    "# **End of notebook.**\n",
    "Congratulations, you reached the end of this notebook! Before you go let's store your finish time."
   ],
   "id": "e2d3e3ccdf374809"
  },
  {
   "metadata": {
    "tags": [],
    "ExecuteTime": {
     "end_time": "2024-08-28T00:38:51.037469Z",
     "start_time": "2024-08-28T00:38:51.022956Z"
    }
   },
   "cell_type": "code",
   "source": [
    "dt_string = datetime.now().strftime(\"%Y-%m-%d %H:%M:%S\")\n",
    "print(f\"Finished. {dt_string}\")"
   ],
   "id": "d999de81e5509f7",
   "outputs": [
    {
     "name": "stdout",
     "output_type": "stream",
     "text": [
      "Finished. 2024-08-28 02:38:51\n"
     ]
    }
   ],
   "execution_count": 12
  },
  {
   "metadata": {
    "ExecuteTime": {
     "end_time": "2024-08-28T00:38:51.069470Z",
     "start_time": "2024-08-28T00:38:51.054473Z"
    }
   },
   "cell_type": "code",
   "source": "",
   "id": "b4c906858692e0a5",
   "outputs": [],
   "execution_count": null
  }
 ],
 "metadata": {
  "kernelspec": {
   "display_name": "Python 3",
   "language": "python",
   "name": "python3"
  },
  "language_info": {
   "codemirror_mode": {
    "name": "ipython",
    "version": 2
   },
   "file_extension": ".py",
   "mimetype": "text/x-python",
   "name": "python",
   "nbconvert_exporter": "python",
   "pygments_lexer": "ipython2",
   "version": "2.7.6"
  }
 },
 "nbformat": 4,
 "nbformat_minor": 5
}
