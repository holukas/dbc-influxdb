{
 "cells": [
  {
   "cell_type": "markdown",
   "id": "d40d22f3968b2f8c",
   "metadata": {},
   "source": [
    "<span style='font-size:40px; display:block;'>\n",
    "<b>\n",
    "    Delete data from database (influxdb)\n",
    "</b>\n",
    "</span>"
   ]
  },
  {
   "cell_type": "markdown",
   "id": "8b42ea93-fd48-45ab-9ffa-a47dc35b0ef8",
   "metadata": {},
   "source": [
    "---\n",
    "**Author**: Lukas Hörtnagl  \n",
    "**Last update**: 11 Mar 2025"
   ]
  },
  {
   "cell_type": "markdown",
   "id": "6d461ec9a88bdb51",
   "metadata": {},
   "source": [
    "# **Imports**"
   ]
  },
  {
   "cell_type": "code",
   "execution_count": 1,
   "id": "f7928bb1a4a9bc08",
   "metadata": {
    "ExecuteTime": {
     "end_time": "2024-08-28T00:38:48.409866Z",
     "start_time": "2024-08-28T00:38:48.395862Z"
    }
   },
   "outputs": [],
   "source": [
    "import warnings\n",
    "from datetime import datetime\n",
    "\n",
    "import dbc_influxdb as dbc\n",
    "\n",
    "warnings.simplefilter(\"ignore\")"
   ]
  },
  {
   "cell_type": "markdown",
   "id": "bbc462ad4836d9a7",
   "metadata": {},
   "source": [
    "</br>"
   ]
  },
  {
   "cell_type": "markdown",
   "id": "8ef208f947470920",
   "metadata": {},
   "source": [
    "# **Connect to database**"
   ]
  },
  {
   "cell_type": "code",
   "execution_count": 2,
   "id": "51dfb389a5c1e9a",
   "metadata": {
    "ExecuteTime": {
     "end_time": "2024-08-28T00:38:50.504193Z",
     "start_time": "2024-08-28T00:38:48.458372Z"
    }
   },
   "outputs": [
    {
     "name": "stdout",
     "output_type": "stream",
     "text": [
      "Reading configuration files was successful.\n",
      "Connection to database works.\n"
     ]
    }
   ],
   "source": [
    "# Folder with configurations\n",
    "DIRCONF = r'L:\\Sync\\luhk_work\\20 - CODING\\22 - POET\\configs'  \n",
    "\n",
    "# Instantiate class\n",
    "dbc = dbc.dbcInflux(dirconf=DIRCONF)"
   ]
  },
  {
   "cell_type": "markdown",
   "id": "2925cce54011801",
   "metadata": {},
   "source": [
    "</br>"
   ]
  },
  {
   "cell_type": "markdown",
   "id": "14f5dac20c9cbe9",
   "metadata": {},
   "source": [
    "# **Docstring**"
   ]
  },
  {
   "cell_type": "code",
   "execution_count": 3,
   "id": "c11fcc9625708819",
   "metadata": {
    "ExecuteTime": {
     "end_time": "2024-08-28T00:38:50.583702Z",
     "start_time": "2024-08-28T00:38:50.573702Z"
    }
   },
   "outputs": [
    {
     "name": "stdout",
     "output_type": "stream",
     "text": [
      "Help on method delete in module dbc_influxdb.main:\n",
      "\n",
      "delete(bucket: str, measurements: list, start: str, stop: str, timezone_offset_to_utc_hours: int, data_version: str, fields: list) -> None method of dbc_influxdb.main.dbcInflux instance\n",
      "    Delete data from bucket\n",
      "    \n",
      "    Args:\n",
      "        bucket: name of bucket in database\n",
      "        measurements: list or True\n",
      "            If list, list of measurements in database, e.g. ['TA', 'SW']\n",
      "            If True, all *fields* in all *measurements* will be deleted\n",
      "        fields: list or True\n",
      "            If list, list of fields (variable names) to delete\n",
      "            If True, all data in *fields* in *measurements* will be deleted.\n",
      "        start: start datetime, e.g. '2022-07-04 00:30:00'\n",
      "        stop: stop datetime, e.g. '2022-07-05 12:00:00'\n",
      "        timezone_offset_to_utc_hours: the timezone of *start* and *stop* datetimes.\n",
      "            Necessary because the database always stores data with UTC timestamps.\n",
      "            For example, if data were originally recorded using CET (winter time),\n",
      "            which corresponds to UTC+01:00, and all data between 1 Jun 2024 00:30 CET and\n",
      "            2 Jun 2024 12:00 CET should be deleted, then *timezone_offset_to_utc_hours=1*.\n",
      "        data_version: version ID of the data that should be deleted,\n",
      "            e.g. 'meteoscreening_diive', 'raw', 'myID', ...\n",
      "    \n",
      "    Examples:\n",
      "    \n",
      "        Delete all variables across all measurements:\n",
      "            measurements=True, fields=True\n",
      "    \n",
      "        Delete all variables of a specific measurement:\n",
      "            measurements=['TA'], fields=True\n",
      "    \n",
      "    \n",
      "        Delete specific variables in specific measurements:\n",
      "            measurements=['TA', 'SW'], fields=['TA_T1_1_1', 'SW_T1_1_1']\n",
      "    \n",
      "        Delete specific variables in across all measurements:\n",
      "            measurements=True, fields=['TA_T1_1_1', 'SW_T1_1_1']\n",
      "            This basically searches the variables across all measurements\n",
      "            and the deletes them.\n",
      "    \n",
      "    Returns:\n",
      "        -\n",
      "    \n",
      "    docs:\n",
      "    - https://influxdb-client.readthedocs.io/en/stable/usage.html#delete-data\n",
      "    - https://docs.influxdata.com/influxdb/v2/reference/syntax/delete-predicate/\n",
      "\n"
     ]
    }
   ],
   "source": [
    "help(dbc.delete)"
   ]
  },
  {
   "cell_type": "markdown",
   "id": "9b534ecc011dc364",
   "metadata": {},
   "source": [
    "</br>"
   ]
  },
  {
   "cell_type": "markdown",
   "id": "56e2d699-3225-4b9c-a329-b8ca3d26666d",
   "metadata": {},
   "source": [
    "# **Delete specific variables**"
   ]
  },
  {
   "cell_type": "code",
   "execution_count": 4,
   "id": "cf39e65a-8da7-4539-8079-127765e73458",
   "metadata": {},
   "outputs": [
    {
     "name": "stdout",
     "output_type": "stream",
     "text": [
      "Deleted variables ['SWC_FF1_0.05_1', 'SWC_FF1_0.05_2', 'TA_NABEL_T1_35_1'] between 2021-05-05T00:00:01+01:00 and 2021-06-25T00:00:01+01:00 from measurements ['SWC', 'TA'] in bucket a.\n"
     ]
    }
   ],
   "source": [
    "BUCKET = f'a'\n",
    "DATA_VERSION = 'meteoscreening_mst'\n",
    "MEASUREMENTS = ['SWC', 'TA']  # Measurement name(s)\n",
    "FIELDS = ['SWC_FF1_0.05_1', 'SWC_FF1_0.05_2', 'TA_NABEL_T1_35_1']  # Variable name(s); InfluxDB stores variable names as '_field'\n",
    "START = '2021-05-05 00:00:01'  # Delete data starting with this date\n",
    "STOP = '2021-06-25 00:00:01'  # Delete data before this date (the stop date itself is not included)\n",
    "TIMEZONE_OFFSET_TO_UTC_HOURS = 1  # Timezone, e.g. \"1\" is translated to timezone \"UTC+01:00\" (CET, winter time)\n",
    "\n",
    "# Delete\n",
    "dbc.delete(\n",
    "    bucket=BUCKET,\n",
    "    measurements=MEASUREMENTS,\n",
    "    fields=FIELDS,\n",
    "    start=START,\n",
    "    stop=STOP,\n",
    "    timezone_offset_to_utc_hours=TIMEZONE_OFFSET_TO_UTC_HOURS,\n",
    "    data_version=DATA_VERSION\n",
    ")"
   ]
  },
  {
   "cell_type": "markdown",
   "id": "8a063630fdd2144",
   "metadata": {},
   "source": [
    "# **Delete all data of a specific data version**"
   ]
  },
  {
   "cell_type": "code",
   "execution_count": 5,
   "id": "7e3e138e097b02c9",
   "metadata": {
    "ExecuteTime": {
     "end_time": "2024-08-28T00:38:50.952377Z",
     "start_time": "2024-08-28T00:38:50.672637Z"
    }
   },
   "outputs": [
    {
     "name": "stdout",
     "output_type": "stream",
     "text": [
      "Deleted variables ALL between 2021-01-01T00:00:01+01:00 and 2022-01-01T00:00:01+01:00 from measurements ALL in bucket a.\n"
     ]
    }
   ],
   "source": [
    "# Settings\n",
    "BUCKET = f'a'\n",
    "DATA_VERSION = 'meteoscreening_mst'\n",
    "DIRCONF = r'L:\\Sync\\luhk_work\\20 - CODING\\22 - POET\\configs'  # Folder with configurations\n",
    "MEASUREMENTS = True\n",
    "FIELDS = True\n",
    "START = '2021-01-01 00:00:01'  # Delete data starting with this date\n",
    "STOP = '2022-01-01 00:00:01'  # Delete data before this date (the stop date itself is not included)\n",
    "TIMEZONE_OFFSET_TO_UTC_HOURS = 1  # Timezone, e.g. \"1\" is translated to timezone \"UTC+01:00\" (CET, winter time)\n",
    "\n",
    "# Delete\n",
    "dbc.delete(\n",
    "    bucket=BUCKET,\n",
    "    measurements=MEASUREMENTS,\n",
    "    fields=FIELDS,\n",
    "    start=START,\n",
    "    stop=STOP,\n",
    "    timezone_offset_to_utc_hours=TIMEZONE_OFFSET_TO_UTC_HOURS,\n",
    "    data_version=DATA_VERSION\n",
    ")"
   ]
  },
  {
   "cell_type": "markdown",
   "id": "8792fddd2e6ad71d",
   "metadata": {},
   "source": [
    "</br>"
   ]
  },
  {
   "cell_type": "markdown",
   "id": "e2d3e3ccdf374809",
   "metadata": {},
   "source": [
    "# **End of notebook.**\n",
    "Congratulations, you reached the end of this notebook! Before you go let's store your finish time."
   ]
  },
  {
   "cell_type": "code",
   "execution_count": 6,
   "id": "d999de81e5509f7",
   "metadata": {
    "ExecuteTime": {
     "end_time": "2024-08-28T00:38:51.037469Z",
     "start_time": "2024-08-28T00:38:51.022956Z"
    },
    "tags": []
   },
   "outputs": [
    {
     "name": "stdout",
     "output_type": "stream",
     "text": [
      "Finished. 2025-03-11 12:38:27\n"
     ]
    }
   ],
   "source": [
    "dt_string = datetime.now().strftime(\"%Y-%m-%d %H:%M:%S\")\n",
    "print(f\"Finished. {dt_string}\")"
   ]
  },
  {
   "cell_type": "code",
   "execution_count": null,
   "id": "b4c906858692e0a5",
   "metadata": {
    "ExecuteTime": {
     "end_time": "2024-08-28T00:38:51.069470Z",
     "start_time": "2024-08-28T00:38:51.054473Z"
    }
   },
   "outputs": [],
   "source": []
  }
 ],
 "metadata": {
  "kernelspec": {
   "display_name": "Python 3 (ipykernel)",
   "language": "python",
   "name": "python3"
  },
  "language_info": {
   "codemirror_mode": {
    "name": "ipython",
    "version": 3
   },
   "file_extension": ".py",
   "mimetype": "text/x-python",
   "name": "python",
   "nbconvert_exporter": "python",
   "pygments_lexer": "ipython3",
   "version": "3.9.19"
  }
 },
 "nbformat": 4,
 "nbformat_minor": 5
}
